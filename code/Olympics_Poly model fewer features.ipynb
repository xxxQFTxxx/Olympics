{
 "cells": [
  {
   "cell_type": "code",
   "execution_count": 121,
   "metadata": {},
   "outputs": [],
   "source": [
    "import numpy as np # linear algebra\n",
    "import pandas as pd # data processing, CSV file I/O (e.g. pd.read_csv)\n",
    "import matplotlib.pyplot as plt\n",
    "\n",
    "from sklearn.model_selection import train_test_split\n",
    "from sklearn.preprocessing import LabelEncoder, OneHotEncoder, StandardScaler"
   ]
  },
  {
   "cell_type": "code",
   "execution_count": null,
   "metadata": {},
   "outputs": [],
   "source": []
  },
  {
   "cell_type": "code",
   "execution_count": null,
   "metadata": {},
   "outputs": [],
   "source": []
  },
  {
   "cell_type": "code",
   "execution_count": 122,
   "metadata": {},
   "outputs": [
    {
     "data": {
      "text/html": [
       "<div>\n",
       "<style scoped>\n",
       "    .dataframe tbody tr th:only-of-type {\n",
       "        vertical-align: middle;\n",
       "    }\n",
       "\n",
       "    .dataframe tbody tr th {\n",
       "        vertical-align: top;\n",
       "    }\n",
       "\n",
       "    .dataframe thead th {\n",
       "        text-align: right;\n",
       "    }\n",
       "</style>\n",
       "<table border=\"1\" class=\"dataframe\">\n",
       "  <thead>\n",
       "    <tr style=\"text-align: right;\">\n",
       "      <th></th>\n",
       "      <th>Year</th>\n",
       "      <th>Events</th>\n",
       "      <th>Athletes</th>\n",
       "      <th>Cost, Billion USD</th>\n",
       "    </tr>\n",
       "  </thead>\n",
       "  <tbody>\n",
       "    <tr>\n",
       "      <th>0</th>\n",
       "      <td>1964</td>\n",
       "      <td>163</td>\n",
       "      <td>5152</td>\n",
       "      <td>0.282</td>\n",
       "    </tr>\n",
       "    <tr>\n",
       "      <th>1</th>\n",
       "      <td>1972</td>\n",
       "      <td>195</td>\n",
       "      <td>7234</td>\n",
       "      <td>1.009</td>\n",
       "    </tr>\n",
       "    <tr>\n",
       "      <th>2</th>\n",
       "      <td>1976</td>\n",
       "      <td>198</td>\n",
       "      <td>6048</td>\n",
       "      <td>6.093</td>\n",
       "    </tr>\n",
       "    <tr>\n",
       "      <th>3</th>\n",
       "      <td>1980</td>\n",
       "      <td>203</td>\n",
       "      <td>5179</td>\n",
       "      <td>6.331</td>\n",
       "    </tr>\n",
       "    <tr>\n",
       "      <th>4</th>\n",
       "      <td>1984</td>\n",
       "      <td>221</td>\n",
       "      <td>6829</td>\n",
       "      <td>0.719</td>\n",
       "    </tr>\n",
       "    <tr>\n",
       "      <th>5</th>\n",
       "      <td>1992</td>\n",
       "      <td>257</td>\n",
       "      <td>9356</td>\n",
       "      <td>9.687</td>\n",
       "    </tr>\n",
       "    <tr>\n",
       "      <th>6</th>\n",
       "      <td>1996</td>\n",
       "      <td>271</td>\n",
       "      <td>10318</td>\n",
       "      <td>4.143</td>\n",
       "    </tr>\n",
       "    <tr>\n",
       "      <th>7</th>\n",
       "      <td>2000</td>\n",
       "      <td>300</td>\n",
       "      <td>10651</td>\n",
       "      <td>5.026</td>\n",
       "    </tr>\n",
       "    <tr>\n",
       "      <th>8</th>\n",
       "      <td>2004</td>\n",
       "      <td>301</td>\n",
       "      <td>10625</td>\n",
       "      <td>2.942</td>\n",
       "    </tr>\n",
       "    <tr>\n",
       "      <th>9</th>\n",
       "      <td>2008</td>\n",
       "      <td>302</td>\n",
       "      <td>10942</td>\n",
       "      <td>6.810</td>\n",
       "    </tr>\n",
       "    <tr>\n",
       "      <th>10</th>\n",
       "      <td>2012</td>\n",
       "      <td>302</td>\n",
       "      <td>10568</td>\n",
       "      <td>14.957</td>\n",
       "    </tr>\n",
       "    <tr>\n",
       "      <th>11</th>\n",
       "      <td>2016</td>\n",
       "      <td>306</td>\n",
       "      <td>10500</td>\n",
       "      <td>4.557</td>\n",
       "    </tr>\n",
       "    <tr>\n",
       "      <th>12</th>\n",
       "      <td>1964</td>\n",
       "      <td>34</td>\n",
       "      <td>1091</td>\n",
       "      <td>0.022</td>\n",
       "    </tr>\n",
       "    <tr>\n",
       "      <th>13</th>\n",
       "      <td>1968</td>\n",
       "      <td>35</td>\n",
       "      <td>1158</td>\n",
       "      <td>0.888</td>\n",
       "    </tr>\n",
       "    <tr>\n",
       "      <th>14</th>\n",
       "      <td>1972</td>\n",
       "      <td>35</td>\n",
       "      <td>1006</td>\n",
       "      <td>0.117</td>\n",
       "    </tr>\n",
       "    <tr>\n",
       "      <th>15</th>\n",
       "      <td>1976</td>\n",
       "      <td>37</td>\n",
       "      <td>1123</td>\n",
       "      <td>0.118</td>\n",
       "    </tr>\n",
       "    <tr>\n",
       "      <th>16</th>\n",
       "      <td>1980</td>\n",
       "      <td>38</td>\n",
       "      <td>1072</td>\n",
       "      <td>0.435</td>\n",
       "    </tr>\n",
       "    <tr>\n",
       "      <th>17</th>\n",
       "      <td>1988</td>\n",
       "      <td>46</td>\n",
       "      <td>1432</td>\n",
       "      <td>1.109</td>\n",
       "    </tr>\n",
       "    <tr>\n",
       "      <th>18</th>\n",
       "      <td>1992</td>\n",
       "      <td>57</td>\n",
       "      <td>1801</td>\n",
       "      <td>1.997</td>\n",
       "    </tr>\n",
       "    <tr>\n",
       "      <th>19</th>\n",
       "      <td>1994</td>\n",
       "      <td>61</td>\n",
       "      <td>1737</td>\n",
       "      <td>2.228</td>\n",
       "    </tr>\n",
       "    <tr>\n",
       "      <th>20</th>\n",
       "      <td>1998</td>\n",
       "      <td>68</td>\n",
       "      <td>2176</td>\n",
       "      <td>2.227</td>\n",
       "    </tr>\n",
       "    <tr>\n",
       "      <th>21</th>\n",
       "      <td>2002</td>\n",
       "      <td>78</td>\n",
       "      <td>2399</td>\n",
       "      <td>2.520</td>\n",
       "    </tr>\n",
       "    <tr>\n",
       "      <th>22</th>\n",
       "      <td>2006</td>\n",
       "      <td>84</td>\n",
       "      <td>2508</td>\n",
       "      <td>4.366</td>\n",
       "    </tr>\n",
       "    <tr>\n",
       "      <th>23</th>\n",
       "      <td>2010</td>\n",
       "      <td>86</td>\n",
       "      <td>2566</td>\n",
       "      <td>2.540</td>\n",
       "    </tr>\n",
       "    <tr>\n",
       "      <th>24</th>\n",
       "      <td>2014</td>\n",
       "      <td>98</td>\n",
       "      <td>2780</td>\n",
       "      <td>21.890</td>\n",
       "    </tr>\n",
       "  </tbody>\n",
       "</table>\n",
       "</div>"
      ],
      "text/plain": [
       "    Year  Events  Athletes  Cost, Billion USD\n",
       "0   1964     163      5152              0.282\n",
       "1   1972     195      7234              1.009\n",
       "2   1976     198      6048              6.093\n",
       "3   1980     203      5179              6.331\n",
       "4   1984     221      6829              0.719\n",
       "5   1992     257      9356              9.687\n",
       "6   1996     271     10318              4.143\n",
       "7   2000     300     10651              5.026\n",
       "8   2004     301     10625              2.942\n",
       "9   2008     302     10942              6.810\n",
       "10  2012     302     10568             14.957\n",
       "11  2016     306     10500              4.557\n",
       "12  1964      34      1091              0.022\n",
       "13  1968      35      1158              0.888\n",
       "14  1972      35      1006              0.117\n",
       "15  1976      37      1123              0.118\n",
       "16  1980      38      1072              0.435\n",
       "17  1988      46      1432              1.109\n",
       "18  1992      57      1801              1.997\n",
       "19  1994      61      1737              2.228\n",
       "20  1998      68      2176              2.227\n",
       "21  2002      78      2399              2.520\n",
       "22  2006      84      2508              4.366\n",
       "23  2010      86      2566              2.540\n",
       "24  2014      98      2780             21.890"
      ]
     },
     "execution_count": 122,
     "metadata": {},
     "output_type": "execute_result"
    }
   ],
   "source": [
    "dataset = pd.read_csv('./sports-olympics/Cost_games.csv')\n",
    "\n",
    "dataset = dataset.drop('Country', axis=1) \n",
    "dataset = dataset.drop('Type', axis=1)\n",
    "\n",
    "X = dataset.iloc[:,:-1].values\n",
    "y = dataset.iloc[:,-1].values\n",
    "dataset"
   ]
  },
  {
   "cell_type": "code",
   "execution_count": 123,
   "metadata": {},
   "outputs": [
    {
     "data": {
      "text/plain": [
       "array([[ 1964,   163,  5152],\n",
       "       [ 1972,   195,  7234],\n",
       "       [ 1976,   198,  6048],\n",
       "       [ 1980,   203,  5179],\n",
       "       [ 1984,   221,  6829],\n",
       "       [ 1992,   257,  9356],\n",
       "       [ 1996,   271, 10318],\n",
       "       [ 2000,   300, 10651],\n",
       "       [ 2004,   301, 10625],\n",
       "       [ 2008,   302, 10942],\n",
       "       [ 2012,   302, 10568],\n",
       "       [ 2016,   306, 10500],\n",
       "       [ 1964,    34,  1091],\n",
       "       [ 1968,    35,  1158],\n",
       "       [ 1972,    35,  1006],\n",
       "       [ 1976,    37,  1123],\n",
       "       [ 1980,    38,  1072],\n",
       "       [ 1988,    46,  1432],\n",
       "       [ 1992,    57,  1801],\n",
       "       [ 1994,    61,  1737],\n",
       "       [ 1998,    68,  2176],\n",
       "       [ 2002,    78,  2399],\n",
       "       [ 2006,    84,  2508],\n",
       "       [ 2010,    86,  2566],\n",
       "       [ 2014,    98,  2780]], dtype=int64)"
      ]
     },
     "execution_count": 123,
     "metadata": {},
     "output_type": "execute_result"
    }
   ],
   "source": [
    "# Handle categorical variable - State column\n",
    "#labelencoder_X = LabelEncoder()\n",
    "#X[:,2] = labelencoder_X.fit_transform(X[:, 2])\n",
    "#X[:,1] = labelencoder_X.fit_transform(X[:, 1])\n",
    "#hotonencoder_X = OneHotEncoder(categorical_features = 'auto')\n",
    "#X = hotonencoder_X.fit_transform(X).toarray()\n",
    "\n",
    "# Avoiding the dummy trap\n",
    "#X = X[:, 1:] #R&D is removed by this\n",
    "X"
   ]
  },
  {
   "cell_type": "code",
   "execution_count": 124,
   "metadata": {},
   "outputs": [],
   "source": [
    "\n",
    "# We are going to keep 20% of the dataset in test dataset\n",
    "X_train, X_test, y_train, y_test = train_test_split(X, y, test_size=1/5, random_state=0)"
   ]
  },
  {
   "cell_type": "code",
   "execution_count": 125,
   "metadata": {},
   "outputs": [],
   "source": [
    "from sklearn.preprocessing import PolynomialFeatures\n",
    "from sklearn import linear_model\n",
    "\n",
    "poly = PolynomialFeatures(degree=2)\n",
    "X_train_1 = poly.fit_transform(X_train)\n",
    "X_test_1 = poly.fit_transform(X_test)\n",
    "\n",
    "clf = linear_model.LinearRegression()\n",
    "clf.fit(X_train_1, y_train)\n",
    "y_test = clf.predict(X_test_1)"
   ]
  },
  {
   "cell_type": "code",
   "execution_count": 126,
   "metadata": {},
   "outputs": [
    {
     "data": {
      "text/plain": [
       "array([[ 1992,   257,  9356],\n",
       "       [ 1976,   198,  6048],\n",
       "       [ 1994,    61,  1737],\n",
       "       [ 1980,    38,  1072],\n",
       "       [ 2016,   306, 10500]], dtype=int64)"
      ]
     },
     "execution_count": 126,
     "metadata": {},
     "output_type": "execute_result"
    }
   ],
   "source": [
    "X_test"
   ]
  },
  {
   "cell_type": "code",
   "execution_count": 127,
   "metadata": {},
   "outputs": [],
   "source": [
    "testing = np.array([2,3])\n",
    "\n",
    "\n",
    "Tokyo = np.array([[2020, 321 , 10616]] )   "
   ]
  },
  {
   "cell_type": "code",
   "execution_count": 128,
   "metadata": {},
   "outputs": [
    {
     "data": {
      "text/plain": [
       "array([ 2.51757312, -0.1961565 ,  3.77168149,  0.34820406, 16.20138682])"
      ]
     },
     "execution_count": 128,
     "metadata": {},
     "output_type": "execute_result"
    }
   ],
   "source": [
    "y_test\n"
   ]
  },
  {
   "cell_type": "code",
   "execution_count": 129,
   "metadata": {},
   "outputs": [
    {
     "data": {
      "text/plain": [
       "array([2, 3])"
      ]
     },
     "execution_count": 129,
     "metadata": {},
     "output_type": "execute_result"
    }
   ],
   "source": [
    "testing"
   ]
  },
  {
   "cell_type": "code",
   "execution_count": 130,
   "metadata": {},
   "outputs": [
    {
     "data": {
      "text/plain": [
       "array([[1.00000000e+00, 2.02000000e+03, 3.21000000e+02, 1.06160000e+04,\n",
       "        4.08040000e+06, 6.48420000e+05, 2.14443200e+07, 1.03041000e+05,\n",
       "        3.40773600e+06, 1.12699456e+08]])"
      ]
     },
     "execution_count": 130,
     "metadata": {},
     "output_type": "execute_result"
    }
   ],
   "source": [
    "Tokyo = poly.fit_transform(Tokyo)\n",
    "Tokyo"
   ]
  },
  {
   "cell_type": "code",
   "execution_count": 131,
   "metadata": {},
   "outputs": [
    {
     "data": {
      "text/plain": [
       "array([22.46355255])"
      ]
     },
     "execution_count": 131,
     "metadata": {},
     "output_type": "execute_result"
    }
   ],
   "source": [
    "clf.predict(Tokyo)"
   ]
  },
  {
   "cell_type": "code",
   "execution_count": 132,
   "metadata": {},
   "outputs": [
    {
     "data": {
      "text/plain": [
       "array([[ 2006,    84,  2508],\n",
       "       [ 1988,    46,  1432],\n",
       "       [ 2014,    98,  2780],\n",
       "       [ 2010,    86,  2566],\n",
       "       [ 1972,    35,  1006],\n",
       "       [ 1972,   195,  7234],\n",
       "       [ 2012,   302, 10568],\n",
       "       [ 1968,    35,  1158],\n",
       "       [ 2004,   301, 10625],\n",
       "       [ 1996,   271, 10318],\n",
       "       [ 1992,    57,  1801],\n",
       "       [ 1984,   221,  6829],\n",
       "       [ 2008,   302, 10942],\n",
       "       [ 2000,   300, 10651],\n",
       "       [ 1998,    68,  2176],\n",
       "       [ 1980,   203,  5179],\n",
       "       [ 1964,   163,  5152],\n",
       "       [ 2002,    78,  2399],\n",
       "       [ 1976,    37,  1123],\n",
       "       [ 1964,    34,  1091]], dtype=int64)"
      ]
     },
     "execution_count": 132,
     "metadata": {},
     "output_type": "execute_result"
    }
   ],
   "source": [
    "X_train"
   ]
  },
  {
   "cell_type": "code",
   "execution_count": 133,
   "metadata": {},
   "outputs": [
    {
     "data": {
      "text/plain": [
       "array([ 7.61887677, -1.79417502, 16.54341632,  8.54096454,  1.27827671,\n",
       "        1.15959433, 11.90324031,  0.65932803,  6.10236395,  3.96857494,\n",
       "       -0.77215688,  2.45081693,  7.87695935,  3.56161526,  0.15908196,\n",
       "        6.22991948, -1.65469147,  4.21411616, -0.15456673,  2.12144506])"
      ]
     },
     "execution_count": 133,
     "metadata": {},
     "output_type": "execute_result"
    }
   ],
   "source": [
    "yy = clf.predict(X_train_1)\n",
    "\n",
    "yy"
   ]
  },
  {
   "cell_type": "code",
   "execution_count": 134,
   "metadata": {
    "scrolled": true
   },
   "outputs": [
    {
     "data": {
      "image/png": "[encoded data removed]",
      "text/plain": [
       "<Figure size 432x288 with 1 Axes>"
      ]
     },
     "metadata": {
      "needs_background": "light"
     },
     "output_type": "display_data"
    }
   ],
   "source": [
    "plt.scatter(X_train[:,2], y_train, color='teal', edgecolors='black', label='Training-set observation points')\n",
    "plt.plot(X_train[:,2], yy, color='grey', label='Fit Regression Line')\n",
    "plt.title('Cost vs No. athelets')\n",
    "plt.xlabel('No. athelets')\n",
    "plt.ylabel('Cost (in Bn USD)')\n",
    "\n",
    "plt.scatter(X_test[:,2], y_test, color='red', edgecolors='black', label='Test-set observation points')\n",
    "plt.legend()\n",
    "plt.show()"
   ]
  }
 ],
 "metadata": {
  "kernelspec": {
   "display_name": "Python 3",
   "language": "python",
   "name": "python3"
  },
  "language_info": {
   "codemirror_mode": {
    "name": "ipython",
    "version": 3
   },
   "file_extension": ".py",
   "mimetype": "text/x-python",
   "name": "python",
   "nbconvert_exporter": "python",
   "pygments_lexer": "ipython3",
   "version": "3.7.3"
  }
 },
 "nbformat": 4,
 "nbformat_minor": 2
}
