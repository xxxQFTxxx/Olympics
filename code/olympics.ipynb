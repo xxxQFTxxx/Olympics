{
 "cells": [
  {
   "cell_type": "code",
   "execution_count": 680,
   "metadata": {},
   "outputs": [],
   "source": [
    "import numpy as np # linear algebra\n",
    "import pandas as pd # data processing, CSV file I/O (e.g. pd.read_csv)\n",
    "import matplotlib.pyplot as plt\n",
    "\n",
    "from sklearn.model_selection import train_test_split\n",
    "from sklearn.preprocessing import LabelEncoder, OneHotEncoder, StandardScaler"
   ]
  },
  {
   "cell_type": "code",
   "execution_count": null,
   "metadata": {},
   "outputs": [],
   "source": []
  },
  {
   "cell_type": "code",
   "execution_count": 681,
   "metadata": {},
   "outputs": [
    {
     "data": {
      "text/plain": [
       "array([[1964, 'Japan', 'Summer', 163, 5152],\n",
       "       [1972, 'Germany', 'Summer', 195, 7234],\n",
       "       [1976, 'Canada', 'Summer', 198, 6048],\n",
       "       [1980, 'Soviet Union', 'Summer', 203, 5179],\n",
       "       [1984, 'United States', 'Summer', 221, 6829],\n",
       "       [1992, 'Spain', 'Summer', 257, 9356],\n",
       "       [1996, 'United States', 'Summer', 271, 10318],\n",
       "       [2000, 'Australia', 'Summer', 300, 10651],\n",
       "       [2004, 'Greece', 'Summer', 301, 10625],\n",
       "       [2008, 'China', 'Summer', 302, 10942],\n",
       "       [2012, 'United Kingdom', 'Summer', 302, 10568],\n",
       "       [2016, 'Brazil', 'Summer', 306, 10500],\n",
       "       [1964, 'Austria', 'Winter', 34, 1091],\n",
       "       [1968, 'France', 'Winter', 35, 1158],\n",
       "       [1972, 'Japan', 'Winter', 35, 1006],\n",
       "       [1976, 'Austria', 'Winter', 37, 1123],\n",
       "       [1980, 'United States', 'Winter', 38, 1072],\n",
       "       [1988, 'Canada', 'Winter', 46, 1432],\n",
       "       [1992, 'France', 'Winter', 57, 1801],\n",
       "       [1994, 'Norway', 'Winter', 61, 1737],\n",
       "       [1998, 'Japan', 'Winter', 68, 2176],\n",
       "       [2002, 'United States', 'Winter', 78, 2399],\n",
       "       [2006, 'Italy', 'Winter', 84, 2508],\n",
       "       [2010, 'Canada', 'Winter', 86, 2566],\n",
       "       [2014, 'Russia', 'Winter', 98, 2780]], dtype=object)"
      ]
     },
     "execution_count": 681,
     "metadata": {},
     "output_type": "execute_result"
    }
   ],
   "source": [
    "dataset = pd.read_csv('./sports-olympics/Cost_games.csv')\n",
    "\n",
    "X = dataset.iloc[:,:-1].values\n",
    "y = dataset.iloc[:,-1].values\n",
    "X"
   ]
  },
  {
   "cell_type": "code",
   "execution_count": 682,
   "metadata": {},
   "outputs": [
    {
     "data": {
      "text/plain": [
       "array([[1964, 9, 0, 163, 5152],\n",
       "       [1972, 6, 0, 195, 7234],\n",
       "       [1976, 3, 0, 198, 6048],\n",
       "       [1980, 12, 0, 203, 5179],\n",
       "       [1984, 15, 0, 221, 6829],\n",
       "       [1992, 13, 0, 257, 9356],\n",
       "       [1996, 15, 0, 271, 10318],\n",
       "       [2000, 0, 0, 300, 10651],\n",
       "       [2004, 7, 0, 301, 10625],\n",
       "       [2008, 4, 0, 302, 10942],\n",
       "       [2012, 14, 0, 302, 10568],\n",
       "       [2016, 2, 0, 306, 10500],\n",
       "       [1964, 1, 1, 34, 1091],\n",
       "       [1968, 5, 1, 35, 1158],\n",
       "       [1972, 9, 1, 35, 1006],\n",
       "       [1976, 1, 1, 37, 1123],\n",
       "       [1980, 15, 1, 38, 1072],\n",
       "       [1988, 3, 1, 46, 1432],\n",
       "       [1992, 5, 1, 57, 1801],\n",
       "       [1994, 10, 1, 61, 1737],\n",
       "       [1998, 9, 1, 68, 2176],\n",
       "       [2002, 15, 1, 78, 2399],\n",
       "       [2006, 8, 1, 84, 2508],\n",
       "       [2010, 3, 1, 86, 2566],\n",
       "       [2014, 11, 1, 98, 2780]], dtype=object)"
      ]
     },
     "execution_count": 682,
     "metadata": {},
     "output_type": "execute_result"
    }
   ],
   "source": [
    "# Handle categorical variable - State column\n",
    "labelencoder_X = LabelEncoder()\n",
    "X[:,2] = labelencoder_X.fit_transform(X[:, 2])\n",
    "X[:,1] = labelencoder_X.fit_transform(X[:, 1])\n",
    "hotonencoder_X = OneHotEncoder(categorical_features = 'auto')\n",
    "#X = hotonencoder_X.fit_transform(X).toarray()\n",
    "\n",
    "# Avoiding the dummy trap\n",
    "#X = X[:, 1:] #R&D is removed by this\n",
    "X"
   ]
  },
  {
   "cell_type": "code",
   "execution_count": 683,
   "metadata": {},
   "outputs": [],
   "source": [
    "\n",
    "# We are going to keep 20% of the dataset in test dataset\n",
    "X_train, X_test, y_train, y_test = train_test_split(X, y, test_size=1/5, random_state=0)"
   ]
  },
  {
   "cell_type": "code",
   "execution_count": 684,
   "metadata": {},
   "outputs": [],
   "source": [
    "from sklearn.linear_model import LinearRegression\n",
    "\n",
    "multiple_linear_regressor = LinearRegression()\n",
    "multiple_linear_regressor.fit(X_train, y_train)\n",
    "\n",
    "# y_pred contains all the values predicted by trained model\n",
    "y_pred = multiple_linear_regressor.predict(X_test)"
   ]
  },
  {
   "cell_type": "code",
   "execution_count": 685,
   "metadata": {},
   "outputs": [
    {
     "data": {
      "text/plain": [
       "array([[1992, 13, 0, 257, 9356],\n",
       "       [1976, 3, 0, 198, 6048],\n",
       "       [1994, 10, 1, 61, 1737],\n",
       "       [1980, 15, 1, 38, 1072],\n",
       "       [2016, 2, 0, 306, 10500]], dtype=object)"
      ]
     },
     "execution_count": 685,
     "metadata": {},
     "output_type": "execute_result"
    }
   ],
   "source": [
    "X_test"
   ]
  },
  {
   "cell_type": "code",
   "execution_count": 686,
   "metadata": {},
   "outputs": [
    {
     "data": {
      "text/plain": [
       "array([9.687, 6.093, 2.228, 0.435, 4.557])"
      ]
     },
     "execution_count": 686,
     "metadata": {},
     "output_type": "execute_result"
    }
   ],
   "source": [
    "y_test"
   ]
  },
  {
   "cell_type": "code",
   "execution_count": 687,
   "metadata": {},
   "outputs": [
    {
     "data": {
      "text/plain": [
       "array([4.57260291, 1.243284  , 4.91606749, 2.9960556 , 8.55319066])"
      ]
     },
     "execution_count": 687,
     "metadata": {},
     "output_type": "execute_result"
    }
   ],
   "source": [
    "y_pred"
   ]
  },
  {
   "cell_type": "code",
   "execution_count": 688,
   "metadata": {},
   "outputs": [
    {
     "data": {
      "text/plain": [
       "array([11.88469952])"
      ]
     },
     "execution_count": 688,
     "metadata": {},
     "output_type": "execute_result"
    }
   ],
   "source": [
    "multiple_linear_regressor.predict([[2020, 9, 0, 321 , 10616]])"
   ]
  },
  {
   "cell_type": "code",
   "execution_count": 689,
   "metadata": {},
   "outputs": [],
   "source": [
    "#X_train = X_train.tolist()"
   ]
  },
  {
   "cell_type": "code",
   "execution_count": 690,
   "metadata": {},
   "outputs": [
    {
     "data": {
      "text/plain": [
       "array([2508, 1432, 2780, 2566, 1006, 7234, 10568, 1158, 10625, 10318,\n",
       "       1801, 6829, 10942, 10651, 2176, 5179, 5152, 2399, 1123, 1091],\n",
       "      dtype=object)"
      ]
     },
     "execution_count": 690,
     "metadata": {},
     "output_type": "execute_result"
    }
   ],
   "source": [
    " X_train[:,4]"
   ]
  },
  {
   "cell_type": "code",
   "execution_count": null,
   "metadata": {},
   "outputs": [],
   "source": []
  },
  {
   "cell_type": "code",
   "execution_count": 691,
   "metadata": {},
   "outputs": [
    {
     "data": {
      "text/plain": [
       "array([ 4.366,  1.109, 21.89 ,  2.54 ,  0.117,  1.009, 14.957,  0.888,\n",
       "        2.942,  4.143,  1.997,  0.719,  6.81 ,  5.026,  2.227,  6.331,\n",
       "        0.282,  2.52 ,  0.118,  0.022])"
      ]
     },
     "execution_count": 691,
     "metadata": {},
     "output_type": "execute_result"
    }
   ],
   "source": [
    "y_train\n"
   ]
  },
  {
   "cell_type": "code",
   "execution_count": 692,
   "metadata": {},
   "outputs": [
    {
     "data": {
      "image/png": "[encoded data removed]",
      "text/plain": [
       "<Figure size 432x288 with 1 Axes>"
      ]
     },
     "metadata": {
      "needs_background": "light"
     },
     "output_type": "display_data"
    }
   ],
   "source": [
    "plt.scatter(X_train[:,0], y_train, color='teal', edgecolors='black', label='Training-set observation points')\n",
    "plt.plot(X_train[:,0], multiple_linear_regressor.predict(X_train), color='grey', label='Fit Regression Line')\n",
    "plt.title('Cost vs years')\n",
    "plt.xlabel('years')\n",
    "plt.ylabel('Cost (in Bn USD)')\n",
    "\n",
    "plt.scatter(X_test[:,0], y_test, color='red', edgecolors='black', label='Test-set observation points')\n",
    "plt.legend()\n",
    "plt.show()"
   ]
  }
 ],
 "metadata": {
  "kernelspec": {
   "display_name": "Python 3",
   "language": "python",
   "name": "python3"
  },
  "language_info": {
   "codemirror_mode": {
    "name": "ipython",
    "version": 3
   },
   "file_extension": ".py",
   "mimetype": "text/x-python",
   "name": "python",
   "nbconvert_exporter": "python",
   "pygments_lexer": "ipython3",
   "version": "3.7.3"
  }
 },
 "nbformat": 4,
 "nbformat_minor": 2
}
